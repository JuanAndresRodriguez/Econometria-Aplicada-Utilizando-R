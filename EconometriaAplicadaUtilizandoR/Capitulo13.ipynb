{
  "cells": [
    {
      "metadata": {
        "collapsed": true
      },
      "cell_type": "markdown",
      "source": "# MODELOS LOGIT Y PROBIT"
    },
    {
      "metadata": {},
      "cell_type": "markdown",
      "source": "Cuando una variable binaria es la variable dependiene a explicar, el modelo de regresión se interpreta como probabilidades. Retomando el ejemplo de la ecuación minceriana, el modelo se podría reformular considerando una variable salarial binaria; igual a la unidad para salarios por encima de la media y cero para salarios por debajo de la media."
    },
    {
      "metadata": {},
      "cell_type": "markdown",
      "source": "Para lograr asegurar que las probabilidades estén restringidas a valores entre cero y uno se han sugerido dos modelos fundamentales; el logístico o logit y el probabilístico o probit. "
    },
    {
      "metadata": {},
      "cell_type": "markdown",
      "source": "La regresión logística no supone linealidad como en los modelos de regresión clásica, tampoco requiere del supuesto de normalidad ni del de homocedasticidad (Garson, 2014). Sin embargo, si requiere que las observaciones sean independientes y que las variables explicatorias estén relacionadas linealmente al logito de la variable dependiente."
    },
    {
      "metadata": {},
      "cell_type": "markdown",
      "source": "En general, los resultados de los modelos logit y probit permiten llegar a las mismas conclusiones ya que sus coeficientes sólo difieren en escala; los coeficientes logit son aproximadamente 1.8 veces los que se obtienen en el probit. Tal vez la desventaja más visible de los probit es que sus coeficientes son más difíciles de interpretar y además, debido al supuesto de normalidad, no se recomienda su uso cuando las observaciones se concentran mucho en alguna de las colas de la distribución."
    },
    {
      "metadata": {},
      "cell_type": "markdown",
      "source": "### Estimación por MV "
    },
    {
      "metadata": {},
      "cell_type": "markdown",
      "source": "Son modelos estimados por MV debido a su no linealidad. Este método tiene ventajas estadísticas en virtud de que sus estimaciones son consistentes, eficientes y para muestras grandes son insesgadas y su distribución se aproxima a una normal."
    },
    {
      "metadata": {
        "trusted": true
      },
      "cell_type": "markdown",
      "source": "### Pruebas de hipótesis"
    },
    {
      "metadata": {},
      "cell_type": "markdown",
      "source": "Se pueden aplicar pruebas de restricciones tipo Wald. Una prueba usual en este sentido consiste en comparar la razón de verosimilitud (LR) del modelo que se está estimando en relación al modelo nulo, en el cual los coeficientes de las variables explicativas están restringidos a ser nulos. Si el LR es significativamente diferente de cero tendremos evidencia de que el modelo que se está estimando es diferente al nulo. \nLa bondad de ajuste se obtiene con base en el porcentaje correctamente predicho por el modelo: se define un valor predicho de uno si la probabilidad predicha es de menos 0.5 y de cero en caso contrario. El porcentaje predicho correctamente es el número de veces en que el valor estimado es igual al real."
    },
    {
      "metadata": {},
      "cell_type": "markdown",
      "source": "Los modelos probabilísticos que se presentan se elaboraron para predecir la probabilidad de obtener ingresos por hora por arriba de la mediana (p), de acuerdo a los años de escolaridad, la experiencia y el sexo. "
    },
    {
      "metadata": {},
      "cell_type": "markdown",
      "source": "Los indicadores se construyeron con la Encuesta Nacional de Ocupación y Empleo (ENOE) 2015 del INEGI. "
    },
    {
      "metadata": {
        "trusted": true
      },
      "cell_type": "code",
      "source": "library(stats)",
      "execution_count": 1,
      "outputs": []
    },
    {
      "metadata": {
        "trusted": true
      },
      "cell_type": "code",
      "source": "load(\"Capitulo_LogitProbit.RData\")",
      "execution_count": 2,
      "outputs": []
    },
    {
      "metadata": {
        "trusted": true
      },
      "cell_type": "code",
      "source": "attach(BDatos_1)",
      "execution_count": 3,
      "outputs": []
    },
    {
      "metadata": {
        "trusted": true
      },
      "cell_type": "code",
      "source": "summary(BDatos_1)",
      "execution_count": 4,
      "outputs": [
        {
          "output_type": "display_data",
          "data": {
            "text/plain": "   ing_x_hrs            ingocup        escolaridad          sexo       \n Min.   :   0.0886   Min.   :    16   Min.   : 0.000   Min.   :0.0000  \n 1st Qu.:  16.6667   1st Qu.:  3000   1st Qu.: 6.000   1st Qu.:0.0000  \n Median :  24.2248   Median :  4300   Median : 9.000   Median :1.0000  \n Mean   :  34.2161   Mean   :  5568   Mean   : 9.725   Mean   :0.6085  \n 3rd Qu.:  37.7778   3rd Qu.:  6450   3rd Qu.:12.000   3rd Qu.:1.0000  \n Max.   :3000.0000   Max.   :180000   Max.   :24.000   Max.   :1.0000  \n     exper         capacita     \n Min.   : 0.0   Min.   : 0.000  \n 1st Qu.:14.0   1st Qu.: 0.000  \n Median :25.0   Median : 0.000  \n Mean   :26.4   Mean   : 1.278  \n 3rd Qu.:36.0   3rd Qu.: 0.000  \n Max.   :92.0   Max.   :98.000  "
          },
          "metadata": {}
        }
      ]
    },
    {
      "metadata": {
        "trusted": true
      },
      "cell_type": "code",
      "source": "BDatos_1",
      "execution_count": 6,
      "outputs": [
        {
          "output_type": "display_data",
          "data": {
            "text/plain": "       ing_x_hrs ingocup escolaridad sexo exper capacita\n1       58.13953  6000   16          1    29    0       \n2       31.25000  4300   11          0    37    0       \n3       23.25581  4800   12          0    37    0       \n4       17.77778  3440   10          1    10    0       \n5       14.53488  3000    3          0    88    0       \n6       35.71429  4300    6          0    48    0       \n7       25.00000  1720    6          0    58    0       \n8       37.03704  4300   12          1    56    0       \n9       95.20349 13100   12          0    20    0       \n10       8.50822  3000    9          1    43    0       \n11       4.98339  1500   11          0    23    0       \n12      37.50000  3870    9          0    23    0       \n13      16.66667  5160   11          1    12    0       \n14       5.53710  1500    9          0     9    0       \n15      25.00000  1720    9          0    15    0       \n16      12.50000   860    0          1     0    0       \n17      19.28531  3400   10          1    15    0       \n18      23.25581  6000    6          1    51    0       \n19      10.41667  2150   16          1     7    0       \n20      31.82375  5200    0          1     0    0       \n21      18.00000  3870    6          1    12    0       \n22     145.34885 15000   16          0    16    0       \n23     176.42342 22000   16          0     9    0       \n24     275.00000  2365    6          1    64    0       \n25      60.00000  2580   16          1    20    0       \n26      28.47651  6000    9          0    40    0       \n27      12.15645  4600   12          1    28    0       \n28      25.83979  4000   17          0     9    0       \n29      16.14987  5000   11          1     9    0       \n30      80.51777 18350   12          1    40    0       \n...    ...       ...     ...         ...  ...   ...     \n120920 129.20155 16667    9          1    19    0       \n120921  28.57143  4300    3          1    34    0       \n120922  64.59302  3333    4          1    55    0       \n120923  25.00000  2580   10          1     8    0       \n120924  10.76227  1666    9          1    16    0       \n120925  26.91214  4166    9          1    25    5       \n120926  10.38206  2500    3          1    46    0       \n120927   7.14286  1720    9          1    15    0       \n120928   5.93261  1250    2          1    55    0       \n120929  21.27660  4300    9          1    18    1       \n120930  30.45183  9166    3          1    63    0       \n120931  20.00000  1720    6          0    50    0       \n120932  50.00000  3225    3          1    29    0       \n120933  11.11111  2580    9          0    13    0       \n120934  14.23825  3000    6          1    36    0       \n120935  33.22259  3000    7          0    34    0       \n120936  24.91694  6000    6          1    39    0       \n120937  15.00000  3096    3          1    50    0       \n120938  27.13178  5600   12          0    29    0       \n120939  16.61130  1000    3          1    72    0       \n120940  37.37542  9000    3          0    59    0       \n120941  10.71429  2580    0          1     0    0       \n120942  20.00000  1290    9          0    10    0       \n120943  25.00000  5160    6          1    46    0       \n120944  12.50000  2580    9          1    51    0       \n120945   5.81395   100    0          0     0    0       \n120946   9.30233  2400    9          1    19    0       \n120947  20.00000  1290    9          0    12    0       \n120948  58.13953  4000    6          1    26    0       \n120949  12.50000  2150    9          1    35    0       ",
            "text/latex": "A data.frame: 120949 x 6\n\\begin{tabular}{r|llllll}\n ing\\_x\\_hrs & ingocup & escolaridad & sexo & exper & capacita\\\\\n <dbl> & <int> & <int> & <int> & <int> & <dbl>\\\\\n\\hline\n\t  58.13953 &  6000 & 16 & 1 & 29 & 0\\\\\n\t  31.25000 &  4300 & 11 & 0 & 37 & 0\\\\\n\t  23.25581 &  4800 & 12 & 0 & 37 & 0\\\\\n\t  17.77778 &  3440 & 10 & 1 & 10 & 0\\\\\n\t  14.53488 &  3000 &  3 & 0 & 88 & 0\\\\\n\t  35.71429 &  4300 &  6 & 0 & 48 & 0\\\\\n\t  25.00000 &  1720 &  6 & 0 & 58 & 0\\\\\n\t  37.03704 &  4300 & 12 & 1 & 56 & 0\\\\\n\t  95.20349 & 13100 & 12 & 0 & 20 & 0\\\\\n\t   8.50822 &  3000 &  9 & 1 & 43 & 0\\\\\n\t   4.98339 &  1500 & 11 & 0 & 23 & 0\\\\\n\t  37.50000 &  3870 &  9 & 0 & 23 & 0\\\\\n\t  16.66667 &  5160 & 11 & 1 & 12 & 0\\\\\n\t   5.53710 &  1500 &  9 & 0 &  9 & 0\\\\\n\t  25.00000 &  1720 &  9 & 0 & 15 & 0\\\\\n\t  12.50000 &   860 &  0 & 1 &  0 & 0\\\\\n\t  19.28531 &  3400 & 10 & 1 & 15 & 0\\\\\n\t  23.25581 &  6000 &  6 & 1 & 51 & 0\\\\\n\t  10.41667 &  2150 & 16 & 1 &  7 & 0\\\\\n\t  31.82375 &  5200 &  0 & 1 &  0 & 0\\\\\n\t  18.00000 &  3870 &  6 & 1 & 12 & 0\\\\\n\t 145.34885 & 15000 & 16 & 0 & 16 & 0\\\\\n\t 176.42342 & 22000 & 16 & 0 &  9 & 0\\\\\n\t 275.00000 &  2365 &  6 & 1 & 64 & 0\\\\\n\t  60.00000 &  2580 & 16 & 1 & 20 & 0\\\\\n\t  28.47651 &  6000 &  9 & 0 & 40 & 0\\\\\n\t  12.15645 &  4600 & 12 & 1 & 28 & 0\\\\\n\t  25.83979 &  4000 & 17 & 0 &  9 & 0\\\\\n\t  16.14987 &  5000 & 11 & 1 &  9 & 0\\\\\n\t  80.51777 & 18350 & 12 & 1 & 40 & 0\\\\\n\t ... & ... & ... & ... & ... & ...\\\\\n\t 129.20155 & 16667 &  9 & 1 & 19 & 0\\\\\n\t  28.57143 &  4300 &  3 & 1 & 34 & 0\\\\\n\t  64.59302 &  3333 &  4 & 1 & 55 & 0\\\\\n\t  25.00000 &  2580 & 10 & 1 &  8 & 0\\\\\n\t  10.76227 &  1666 &  9 & 1 & 16 & 0\\\\\n\t  26.91214 &  4166 &  9 & 1 & 25 & 5\\\\\n\t  10.38206 &  2500 &  3 & 1 & 46 & 0\\\\\n\t   7.14286 &  1720 &  9 & 1 & 15 & 0\\\\\n\t   5.93261 &  1250 &  2 & 1 & 55 & 0\\\\\n\t  21.27660 &  4300 &  9 & 1 & 18 & 1\\\\\n\t  30.45183 &  9166 &  3 & 1 & 63 & 0\\\\\n\t  20.00000 &  1720 &  6 & 0 & 50 & 0\\\\\n\t  50.00000 &  3225 &  3 & 1 & 29 & 0\\\\\n\t  11.11111 &  2580 &  9 & 0 & 13 & 0\\\\\n\t  14.23825 &  3000 &  6 & 1 & 36 & 0\\\\\n\t  33.22259 &  3000 &  7 & 0 & 34 & 0\\\\\n\t  24.91694 &  6000 &  6 & 1 & 39 & 0\\\\\n\t  15.00000 &  3096 &  3 & 1 & 50 & 0\\\\\n\t  27.13178 &  5600 & 12 & 0 & 29 & 0\\\\\n\t  16.61130 &  1000 &  3 & 1 & 72 & 0\\\\\n\t  37.37542 &  9000 &  3 & 0 & 59 & 0\\\\\n\t  10.71429 &  2580 &  0 & 1 &  0 & 0\\\\\n\t  20.00000 &  1290 &  9 & 0 & 10 & 0\\\\\n\t  25.00000 &  5160 &  6 & 1 & 46 & 0\\\\\n\t  12.50000 &  2580 &  9 & 1 & 51 & 0\\\\\n\t   5.81395 &   100 &  0 & 0 &  0 & 0\\\\\n\t   9.30233 &  2400 &  9 & 1 & 19 & 0\\\\\n\t  20.00000 &  1290 &  9 & 0 & 12 & 0\\\\\n\t  58.13953 &  4000 &  6 & 1 & 26 & 0\\\\\n\t  12.50000 &  2150 &  9 & 1 & 35 & 0\\\\\n\\end{tabular}\n",
            "text/markdown": "\nA data.frame: 120949 x 6\n\n| ing_x_hrs &lt;dbl&gt; | ingocup &lt;int&gt; | escolaridad &lt;int&gt; | sexo &lt;int&gt; | exper &lt;int&gt; | capacita &lt;dbl&gt; |\n|---|---|---|---|---|---|\n|  58.13953 |  6000 | 16 | 1 | 29 | 0 |\n|  31.25000 |  4300 | 11 | 0 | 37 | 0 |\n|  23.25581 |  4800 | 12 | 0 | 37 | 0 |\n|  17.77778 |  3440 | 10 | 1 | 10 | 0 |\n|  14.53488 |  3000 |  3 | 0 | 88 | 0 |\n|  35.71429 |  4300 |  6 | 0 | 48 | 0 |\n|  25.00000 |  1720 |  6 | 0 | 58 | 0 |\n|  37.03704 |  4300 | 12 | 1 | 56 | 0 |\n|  95.20349 | 13100 | 12 | 0 | 20 | 0 |\n|   8.50822 |  3000 |  9 | 1 | 43 | 0 |\n|   4.98339 |  1500 | 11 | 0 | 23 | 0 |\n|  37.50000 |  3870 |  9 | 0 | 23 | 0 |\n|  16.66667 |  5160 | 11 | 1 | 12 | 0 |\n|   5.53710 |  1500 |  9 | 0 |  9 | 0 |\n|  25.00000 |  1720 |  9 | 0 | 15 | 0 |\n|  12.50000 |   860 |  0 | 1 |  0 | 0 |\n|  19.28531 |  3400 | 10 | 1 | 15 | 0 |\n|  23.25581 |  6000 |  6 | 1 | 51 | 0 |\n|  10.41667 |  2150 | 16 | 1 |  7 | 0 |\n|  31.82375 |  5200 |  0 | 1 |  0 | 0 |\n|  18.00000 |  3870 |  6 | 1 | 12 | 0 |\n| 145.34885 | 15000 | 16 | 0 | 16 | 0 |\n| 176.42342 | 22000 | 16 | 0 |  9 | 0 |\n| 275.00000 |  2365 |  6 | 1 | 64 | 0 |\n|  60.00000 |  2580 | 16 | 1 | 20 | 0 |\n|  28.47651 |  6000 |  9 | 0 | 40 | 0 |\n|  12.15645 |  4600 | 12 | 1 | 28 | 0 |\n|  25.83979 |  4000 | 17 | 0 |  9 | 0 |\n|  16.14987 |  5000 | 11 | 1 |  9 | 0 |\n|  80.51777 | 18350 | 12 | 1 | 40 | 0 |\n| ... | ... | ... | ... | ... | ... |\n| 129.20155 | 16667 |  9 | 1 | 19 | 0 |\n|  28.57143 |  4300 |  3 | 1 | 34 | 0 |\n|  64.59302 |  3333 |  4 | 1 | 55 | 0 |\n|  25.00000 |  2580 | 10 | 1 |  8 | 0 |\n|  10.76227 |  1666 |  9 | 1 | 16 | 0 |\n|  26.91214 |  4166 |  9 | 1 | 25 | 5 |\n|  10.38206 |  2500 |  3 | 1 | 46 | 0 |\n|   7.14286 |  1720 |  9 | 1 | 15 | 0 |\n|   5.93261 |  1250 |  2 | 1 | 55 | 0 |\n|  21.27660 |  4300 |  9 | 1 | 18 | 1 |\n|  30.45183 |  9166 |  3 | 1 | 63 | 0 |\n|  20.00000 |  1720 |  6 | 0 | 50 | 0 |\n|  50.00000 |  3225 |  3 | 1 | 29 | 0 |\n|  11.11111 |  2580 |  9 | 0 | 13 | 0 |\n|  14.23825 |  3000 |  6 | 1 | 36 | 0 |\n|  33.22259 |  3000 |  7 | 0 | 34 | 0 |\n|  24.91694 |  6000 |  6 | 1 | 39 | 0 |\n|  15.00000 |  3096 |  3 | 1 | 50 | 0 |\n|  27.13178 |  5600 | 12 | 0 | 29 | 0 |\n|  16.61130 |  1000 |  3 | 1 | 72 | 0 |\n|  37.37542 |  9000 |  3 | 0 | 59 | 0 |\n|  10.71429 |  2580 |  0 | 1 |  0 | 0 |\n|  20.00000 |  1290 |  9 | 0 | 10 | 0 |\n|  25.00000 |  5160 |  6 | 1 | 46 | 0 |\n|  12.50000 |  2580 |  9 | 1 | 51 | 0 |\n|   5.81395 |   100 |  0 | 0 |  0 | 0 |\n|   9.30233 |  2400 |  9 | 1 | 19 | 0 |\n|  20.00000 |  1290 |  9 | 0 | 12 | 0 |\n|  58.13953 |  4000 |  6 | 1 | 26 | 0 |\n|  12.50000 |  2150 |  9 | 1 | 35 | 0 |\n\n",
            "text/html": "<table>\n<caption>A data.frame: 120949 x 6</caption>\n<thead>\n\t<tr><th scope=col>ing_x_hrs</th><th scope=col>ingocup</th><th scope=col>escolaridad</th><th scope=col>sexo</th><th scope=col>exper</th><th scope=col>capacita</th></tr>\n\t<tr><th scope=col>&lt;dbl&gt;</th><th scope=col>&lt;int&gt;</th><th scope=col>&lt;int&gt;</th><th scope=col>&lt;int&gt;</th><th scope=col>&lt;int&gt;</th><th scope=col>&lt;dbl&gt;</th></tr>\n</thead>\n<tbody>\n\t<tr><td> 58.13953</td><td> 6000</td><td>16</td><td>1</td><td>29</td><td>0</td></tr>\n\t<tr><td> 31.25000</td><td> 4300</td><td>11</td><td>0</td><td>37</td><td>0</td></tr>\n\t<tr><td> 23.25581</td><td> 4800</td><td>12</td><td>0</td><td>37</td><td>0</td></tr>\n\t<tr><td> 17.77778</td><td> 3440</td><td>10</td><td>1</td><td>10</td><td>0</td></tr>\n\t<tr><td> 14.53488</td><td> 3000</td><td> 3</td><td>0</td><td>88</td><td>0</td></tr>\n\t<tr><td> 35.71429</td><td> 4300</td><td> 6</td><td>0</td><td>48</td><td>0</td></tr>\n\t<tr><td> 25.00000</td><td> 1720</td><td> 6</td><td>0</td><td>58</td><td>0</td></tr>\n\t<tr><td> 37.03704</td><td> 4300</td><td>12</td><td>1</td><td>56</td><td>0</td></tr>\n\t<tr><td> 95.20349</td><td>13100</td><td>12</td><td>0</td><td>20</td><td>0</td></tr>\n\t<tr><td>  8.50822</td><td> 3000</td><td> 9</td><td>1</td><td>43</td><td>0</td></tr>\n\t<tr><td>  4.98339</td><td> 1500</td><td>11</td><td>0</td><td>23</td><td>0</td></tr>\n\t<tr><td> 37.50000</td><td> 3870</td><td> 9</td><td>0</td><td>23</td><td>0</td></tr>\n\t<tr><td> 16.66667</td><td> 5160</td><td>11</td><td>1</td><td>12</td><td>0</td></tr>\n\t<tr><td>  5.53710</td><td> 1500</td><td> 9</td><td>0</td><td> 9</td><td>0</td></tr>\n\t<tr><td> 25.00000</td><td> 1720</td><td> 9</td><td>0</td><td>15</td><td>0</td></tr>\n\t<tr><td> 12.50000</td><td>  860</td><td> 0</td><td>1</td><td> 0</td><td>0</td></tr>\n\t<tr><td> 19.28531</td><td> 3400</td><td>10</td><td>1</td><td>15</td><td>0</td></tr>\n\t<tr><td> 23.25581</td><td> 6000</td><td> 6</td><td>1</td><td>51</td><td>0</td></tr>\n\t<tr><td> 10.41667</td><td> 2150</td><td>16</td><td>1</td><td> 7</td><td>0</td></tr>\n\t<tr><td> 31.82375</td><td> 5200</td><td> 0</td><td>1</td><td> 0</td><td>0</td></tr>\n\t<tr><td> 18.00000</td><td> 3870</td><td> 6</td><td>1</td><td>12</td><td>0</td></tr>\n\t<tr><td>145.34885</td><td>15000</td><td>16</td><td>0</td><td>16</td><td>0</td></tr>\n\t<tr><td>176.42342</td><td>22000</td><td>16</td><td>0</td><td> 9</td><td>0</td></tr>\n\t<tr><td>275.00000</td><td> 2365</td><td> 6</td><td>1</td><td>64</td><td>0</td></tr>\n\t<tr><td> 60.00000</td><td> 2580</td><td>16</td><td>1</td><td>20</td><td>0</td></tr>\n\t<tr><td> 28.47651</td><td> 6000</td><td> 9</td><td>0</td><td>40</td><td>0</td></tr>\n\t<tr><td> 12.15645</td><td> 4600</td><td>12</td><td>1</td><td>28</td><td>0</td></tr>\n\t<tr><td> 25.83979</td><td> 4000</td><td>17</td><td>0</td><td> 9</td><td>0</td></tr>\n\t<tr><td> 16.14987</td><td> 5000</td><td>11</td><td>1</td><td> 9</td><td>0</td></tr>\n\t<tr><td> 80.51777</td><td>18350</td><td>12</td><td>1</td><td>40</td><td>0</td></tr>\n\t<tr><td>...</td><td>...</td><td>...</td><td>...</td><td>...</td><td>...</td></tr>\n\t<tr><td>129.20155</td><td>16667</td><td> 9</td><td>1</td><td>19</td><td>0</td></tr>\n\t<tr><td> 28.57143</td><td> 4300</td><td> 3</td><td>1</td><td>34</td><td>0</td></tr>\n\t<tr><td> 64.59302</td><td> 3333</td><td> 4</td><td>1</td><td>55</td><td>0</td></tr>\n\t<tr><td> 25.00000</td><td> 2580</td><td>10</td><td>1</td><td> 8</td><td>0</td></tr>\n\t<tr><td> 10.76227</td><td> 1666</td><td> 9</td><td>1</td><td>16</td><td>0</td></tr>\n\t<tr><td> 26.91214</td><td> 4166</td><td> 9</td><td>1</td><td>25</td><td>5</td></tr>\n\t<tr><td> 10.38206</td><td> 2500</td><td> 3</td><td>1</td><td>46</td><td>0</td></tr>\n\t<tr><td>  7.14286</td><td> 1720</td><td> 9</td><td>1</td><td>15</td><td>0</td></tr>\n\t<tr><td>  5.93261</td><td> 1250</td><td> 2</td><td>1</td><td>55</td><td>0</td></tr>\n\t<tr><td> 21.27660</td><td> 4300</td><td> 9</td><td>1</td><td>18</td><td>1</td></tr>\n\t<tr><td> 30.45183</td><td> 9166</td><td> 3</td><td>1</td><td>63</td><td>0</td></tr>\n\t<tr><td> 20.00000</td><td> 1720</td><td> 6</td><td>0</td><td>50</td><td>0</td></tr>\n\t<tr><td> 50.00000</td><td> 3225</td><td> 3</td><td>1</td><td>29</td><td>0</td></tr>\n\t<tr><td> 11.11111</td><td> 2580</td><td> 9</td><td>0</td><td>13</td><td>0</td></tr>\n\t<tr><td> 14.23825</td><td> 3000</td><td> 6</td><td>1</td><td>36</td><td>0</td></tr>\n\t<tr><td> 33.22259</td><td> 3000</td><td> 7</td><td>0</td><td>34</td><td>0</td></tr>\n\t<tr><td> 24.91694</td><td> 6000</td><td> 6</td><td>1</td><td>39</td><td>0</td></tr>\n\t<tr><td> 15.00000</td><td> 3096</td><td> 3</td><td>1</td><td>50</td><td>0</td></tr>\n\t<tr><td> 27.13178</td><td> 5600</td><td>12</td><td>0</td><td>29</td><td>0</td></tr>\n\t<tr><td> 16.61130</td><td> 1000</td><td> 3</td><td>1</td><td>72</td><td>0</td></tr>\n\t<tr><td> 37.37542</td><td> 9000</td><td> 3</td><td>0</td><td>59</td><td>0</td></tr>\n\t<tr><td> 10.71429</td><td> 2580</td><td> 0</td><td>1</td><td> 0</td><td>0</td></tr>\n\t<tr><td> 20.00000</td><td> 1290</td><td> 9</td><td>0</td><td>10</td><td>0</td></tr>\n\t<tr><td> 25.00000</td><td> 5160</td><td> 6</td><td>1</td><td>46</td><td>0</td></tr>\n\t<tr><td> 12.50000</td><td> 2580</td><td> 9</td><td>1</td><td>51</td><td>0</td></tr>\n\t<tr><td>  5.81395</td><td>  100</td><td> 0</td><td>0</td><td> 0</td><td>0</td></tr>\n\t<tr><td>  9.30233</td><td> 2400</td><td> 9</td><td>1</td><td>19</td><td>0</td></tr>\n\t<tr><td> 20.00000</td><td> 1290</td><td> 9</td><td>0</td><td>12</td><td>0</td></tr>\n\t<tr><td> 58.13953</td><td> 4000</td><td> 6</td><td>1</td><td>26</td><td>0</td></tr>\n\t<tr><td> 12.50000</td><td> 2150</td><td> 9</td><td>1</td><td>35</td><td>0</td></tr>\n</tbody>\n</table>\n"
          },
          "metadata": {}
        }
      ]
    },
    {
      "metadata": {
        "trusted": true
      },
      "cell_type": "code",
      "source": "# Para generar la variable cualitativa con valor de uno si \n# está por arriba de la madiana y cero en caso cotrario.\ny <- ifelse(ing_x_hrs>24.22,1,0)",
      "execution_count": 7,
      "outputs": []
    },
    {
      "metadata": {
        "trusted": true
      },
      "cell_type": "code",
      "source": "summary(y)",
      "execution_count": 8,
      "outputs": [
        {
          "output_type": "display_data",
          "data": {
            "text/plain": "   Min. 1st Qu.  Median    Mean 3rd Qu.    Max. \n 0.0000  0.0000  1.0000  0.5036  1.0000  1.0000 "
          },
          "metadata": {}
        }
      ]
    },
    {
      "metadata": {
        "trusted": true
      },
      "cell_type": "code",
      "source": "# Estimo los modelos logit y probit\n# Modelo logit\nmod_logit <- glm(y ~ escolaridad + exper + sexo, family = \"binomial\")",
      "execution_count": 9,
      "outputs": []
    },
    {
      "metadata": {
        "trusted": true
      },
      "cell_type": "code",
      "source": "summary(mod_logit)",
      "execution_count": 10,
      "outputs": [
        {
          "output_type": "display_data",
          "data": {
            "text/plain": "\nCall:\nglm(formula = y ~ escolaridad + exper + sexo, family = \"binomial\")\n\nDeviance Residuals: \n    Min       1Q   Median       3Q      Max  \n-2.2072  -1.0861   0.5374   1.0795   2.2437  \n\nCoefficients:\n              Estimate Std. Error z value Pr(>|z|)    \n(Intercept) -2.4328725  0.0263347  -92.38   <2e-16 ***\nescolaridad  0.1859686  0.0017082  108.87   <2e-16 ***\nexper        0.0174362  0.0004403   39.60   <2e-16 ***\nsexo         0.2789270  0.0126256   22.09   <2e-16 ***\n---\nSignif. codes:  0 ‘***’ 0.001 ‘**’ 0.01 ‘*’ 0.05 ‘.’ 0.1 ‘ ’ 1\n\n(Dispersion parameter for binomial family taken to be 1)\n\n    Null deviance: 167665  on 120948  degrees of freedom\nResidual deviance: 152567  on 120945  degrees of freedom\nAIC: 152575\n\nNumber of Fisher Scoring iterations: 4\n"
          },
          "metadata": {}
        }
      ]
    },
    {
      "metadata": {
        "trusted": true
      },
      "cell_type": "code",
      "source": "# Modelo probit\nmod_probit <- glm(y ~ escolaridad + exper + sexo, family = binomial(link = \"probit\"))",
      "execution_count": 12,
      "outputs": []
    },
    {
      "metadata": {
        "trusted": true
      },
      "cell_type": "code",
      "source": "summary(mod_probit)",
      "execution_count": 13,
      "outputs": [
        {
          "output_type": "display_data",
          "data": {
            "text/plain": "\nCall:\nglm(formula = y ~ escolaridad + exper + sexo, family = binomial(link = \"probit\"))\n\nDeviance Residuals: \n    Min       1Q   Median       3Q      Max  \n-2.2367  -1.0968   0.5401   1.0796   2.2530  \n\nCoefficients:\n              Estimate Std. Error z value Pr(>|z|)    \n(Intercept) -1.4116513  0.0150724  -93.66   <2e-16 ***\nescolaridad  0.1101217  0.0009769  112.72   <2e-16 ***\nexper        0.0095507  0.0002621   36.44   <2e-16 ***\nsexo         0.1662554  0.0077044   21.58   <2e-16 ***\n---\nSignif. codes:  0 ‘***’ 0.001 ‘**’ 0.01 ‘*’ 0.05 ‘.’ 0.1 ‘ ’ 1\n\n(Dispersion parameter for binomial family taken to be 1)\n\n    Null deviance: 167665  on 120948  degrees of freedom\nResidual deviance: 152796  on 120945  degrees of freedom\nAIC: 152804\n\nNumber of Fisher Scoring iterations: 4\n"
          },
          "metadata": {}
        }
      ]
    },
    {
      "metadata": {},
      "cell_type": "markdown",
      "source": "Los resultados econométricos del modelo logit y probit muestran que la escolaridad, la experiencia y el sexo son estadísticamente diferente de cero y tienen una relación positiva con la probabilidad de obtener ingreso por hora  por arriba de la mediana. También se observa que el modelo logit presenta coeficientes mayores a los de modelo probit, aunque nos son comparables. \nLa lectura de los resultados son los siguientes, cuando se utiliza el logaritmo odds: \n1. Por una unidad de cambio en años de escolaridad, se incrementa el logaritmo de odds de tener ingreso por arriba de la media por 0.18 en el modelo logit y 0.11 en el modelo probit.\n\n2. Por una unidad de cambio en años de experiencia, se incrementa  el logaritmo de odds de tener ingreso por arriba de la media por 0.017 en el modelo logit y 0.009 en el modelo probit. \n3. El ser hombre (sexo =1),  incrementa el logaritmo de odds de tener ingreso por arriba de la media por 0.279 en el modelo logit y 0.166 en el modelo probit.\n\nSi para el análisis se utiliza en lugar del log odds la razón de odds, entonces los resultados son los siguientes: "
    },
    {
      "metadata": {
        "trusted": true
      },
      "cell_type": "code",
      "source": "#odds ratios and 95% CI\n\nexp(cbind(OR = coef(mod_logit), confint(mod_logit)))",
      "execution_count": 14,
      "outputs": [
        {
          "output_type": "stream",
          "text": "Waiting for profiling to be done...\n",
          "name": "stderr"
        },
        {
          "output_type": "display_data",
          "data": {
            "text/plain": "            OR         2.5 %      97.5 %    \n(Intercept) 0.08778431 0.08335809 0.09242306\nescolaridad 1.20438447 1.20036800 1.20843265\nexper       1.01758906 1.01671217 1.01846834\nsexo        1.32171085 1.28941374 1.35483454",
            "text/latex": "A matrix: 4 x 3 of type dbl\n\\begin{tabular}{r|lll}\n  & OR & 2.5 \\% & 97.5 \\%\\\\\n\\hline\n\t(Intercept) & 0.08778431 & 0.08335809 & 0.09242306\\\\\n\tescolaridad & 1.20438447 & 1.20036800 & 1.20843265\\\\\n\texper & 1.01758906 & 1.01671217 & 1.01846834\\\\\n\tsexo & 1.32171085 & 1.28941374 & 1.35483454\\\\\n\\end{tabular}\n",
            "text/markdown": "\nA matrix: 4 x 3 of type dbl\n\n| <!--/--> | OR | 2.5 % | 97.5 % |\n|---|---|---|---|\n| (Intercept) | 0.08778431 | 0.08335809 | 0.09242306 |\n| escolaridad | 1.20438447 | 1.20036800 | 1.20843265 |\n| exper | 1.01758906 | 1.01671217 | 1.01846834 |\n| sexo | 1.32171085 | 1.28941374 | 1.35483454 |\n\n",
            "text/html": "<table>\n<caption>A matrix: 4 x 3 of type dbl</caption>\n<thead>\n\t<tr><th></th><th scope=col>OR</th><th scope=col>2.5 %</th><th scope=col>97.5 %</th></tr>\n</thead>\n<tbody>\n\t<tr><th scope=row>(Intercept)</th><td>0.08778431</td><td>0.08335809</td><td>0.09242306</td></tr>\n\t<tr><th scope=row>escolaridad</th><td>1.20438447</td><td>1.20036800</td><td>1.20843265</td></tr>\n\t<tr><th scope=row>exper</th><td>1.01758906</td><td>1.01671217</td><td>1.01846834</td></tr>\n\t<tr><th scope=row>sexo</th><td>1.32171085</td><td>1.28941374</td><td>1.35483454</td></tr>\n</tbody>\n</table>\n"
          },
          "metadata": {}
        }
      ]
    },
    {
      "metadata": {
        "trusted": true
      },
      "cell_type": "code",
      "source": "exp(cbind(OR = coef(mod_probit), confint(mod_probit)))",
      "execution_count": 15,
      "outputs": [
        {
          "output_type": "stream",
          "text": "Waiting for profiling to be done...\n",
          "name": "stderr"
        },
        {
          "output_type": "display_data",
          "data": {
            "text/plain": "            OR        2.5 %     97.5 %   \n(Intercept) 0.2437405 0.2368851 0.2507615\nescolaridad 1.1164140 1.1143268 1.1185135\nexper       1.0095964 1.0090896 1.0101048\nsexo        1.1808747 1.1631579 1.1988686",
            "text/latex": "A matrix: 4 x 3 of type dbl\n\\begin{tabular}{r|lll}\n  & OR & 2.5 \\% & 97.5 \\%\\\\\n\\hline\n\t(Intercept) & 0.2437405 & 0.2368851 & 0.2507615\\\\\n\tescolaridad & 1.1164140 & 1.1143268 & 1.1185135\\\\\n\texper & 1.0095964 & 1.0090896 & 1.0101048\\\\\n\tsexo & 1.1808747 & 1.1631579 & 1.1988686\\\\\n\\end{tabular}\n",
            "text/markdown": "\nA matrix: 4 x 3 of type dbl\n\n| <!--/--> | OR | 2.5 % | 97.5 % |\n|---|---|---|---|\n| (Intercept) | 0.2437405 | 0.2368851 | 0.2507615 |\n| escolaridad | 1.1164140 | 1.1143268 | 1.1185135 |\n| exper | 1.0095964 | 1.0090896 | 1.0101048 |\n| sexo | 1.1808747 | 1.1631579 | 1.1988686 |\n\n",
            "text/html": "<table>\n<caption>A matrix: 4 x 3 of type dbl</caption>\n<thead>\n\t<tr><th></th><th scope=col>OR</th><th scope=col>2.5 %</th><th scope=col>97.5 %</th></tr>\n</thead>\n<tbody>\n\t<tr><th scope=row>(Intercept)</th><td>0.2437405</td><td>0.2368851</td><td>0.2507615</td></tr>\n\t<tr><th scope=row>escolaridad</th><td>1.1164140</td><td>1.1143268</td><td>1.1185135</td></tr>\n\t<tr><th scope=row>exper</th><td>1.0095964</td><td>1.0090896</td><td>1.0101048</td></tr>\n\t<tr><th scope=row>sexo</th><td>1.1808747</td><td>1.1631579</td><td>1.1988686</td></tr>\n</tbody>\n</table>\n"
          },
          "metadata": {}
        }
      ]
    },
    {
      "metadata": {},
      "cell_type": "markdown",
      "source": "Ahora, con la razón odds la interpretación es la siguiente:\n\n1. Por una unidad de incremento en años de escolaridad, se incrementa la razón de odds de tener ingreso por arriba de la media por  un factor 1.20 en el modelo logit y 1.11 en el modelo probit.\n\n2. Por una unidad de incremento en años de experiencia, se incrementa la razón de odds de tener ingreso por arriba de la media por un factor 1.01 en el modelo logit y 1.009 en el modelo probit.\n\n3. El ser hombre (sexo =1),  incrementa la razón  de odds de tener ingreso por arriba de la media por un factor de 1.321 en el modelo logit y 1.181 en el modelo probit."
    }
  ],
  "metadata": {
    "kernelspec": {
      "name": "r",
      "display_name": "R",
      "language": "R"
    },
    "language_info": {
      "mimetype": "text/x-r-source",
      "name": "R",
      "pygments_lexer": "r",
      "version": "3.5.3",
      "file_extension": ".r",
      "codemirror_mode": "r"
    }
  },
  "nbformat": 4,
  "nbformat_minor": 2
}